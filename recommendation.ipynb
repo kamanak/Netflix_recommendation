{
 "cells": [
  {
   "cell_type": "code",
   "execution_count": 1,
   "metadata": {},
   "outputs": [],
   "source": [
    "import pandas as pd\n",
    "import numpy as np \n",
    "import seaborn as sns \n",
    "import os \n",
    "import random \n",
    "import matplotlib\n",
    "import matplotlib.pyplot as plt\n",
    "from datetime import datetime \n",
    "from scipy import sparse\n",
    "from sklearn.metrics.pairwise import cosine_similarity\n",
    "from sklearn.metrics import mean_squared_error\n",
    "import xgboost as xgb\n",
    "from surprise import Reader,Dataset\n",
    "from surprise import BaselineOnly\n",
    "from surprise import KNNBaseline\n",
    "from surprise import SVD\n",
    "from surprise import SVDpp\n",
    "from surprise.model_selection import GridSearchCV\n"
   ]
  },
  {
   "cell_type": "markdown",
   "metadata": {},
   "source": [
    "Data Extraction"
   ]
  },
  {
   "cell_type": "code",
   "execution_count": 2,
   "metadata": {},
   "outputs": [],
   "source": [
    "#function that insert combined data text file into netflix rating csv file \n",
    "def load_data():\n",
    "    #create new folder netflix_csv to store txt data into csv format\n",
    "    netflix_csv_file = open('netflix_rating.csv',mode='w')\n",
    "    rating_files = ['combined_data_2.txt']\n",
    "    for file in rating_files:\n",
    "        #To open the combined_data.txt file as f\n",
    "        with open(file) as f:\n",
    "            for line in f:\n",
    "                #Remove evey space between each line \n",
    "                line = line.strip()\n",
    "                if line.endswith(\":\"):\n",
    "                    movie_id = line.replace(\":\",\"\")\n",
    "                else:\n",
    "                    row_data = []\n",
    "                    row_data = [item for item in line.split(\",\")]\n",
    "                    row_data.insert(0,movie_id)\n",
    "                    netflix_csv_file.write(\",\".join(row_data))\n",
    "                    netflix_csv_file.write('\\n')\n",
    "    netflix_csv_file.close()\n",
    "    df = pd.read_csv('netflix_rating.csv',sep=',',names=[\"movie_id\",\"customer_id\",\"rating\",\"date\"])\n",
    "    return df\n",
    "\n"
   ]
  },
  {
   "cell_type": "code",
   "execution_count": 3,
   "metadata": {},
   "outputs": [
    {
     "data": {
      "text/html": [
       "<div>\n",
       "<style scoped>\n",
       "    .dataframe tbody tr th:only-of-type {\n",
       "        vertical-align: middle;\n",
       "    }\n",
       "\n",
       "    .dataframe tbody tr th {\n",
       "        vertical-align: top;\n",
       "    }\n",
       "\n",
       "    .dataframe thead th {\n",
       "        text-align: right;\n",
       "    }\n",
       "</style>\n",
       "<table border=\"1\" class=\"dataframe\">\n",
       "  <thead>\n",
       "    <tr style=\"text-align: right;\">\n",
       "      <th></th>\n",
       "      <th>movie_id</th>\n",
       "      <th>customer_id</th>\n",
       "      <th>rating</th>\n",
       "      <th>date</th>\n",
       "    </tr>\n",
       "  </thead>\n",
       "  <tbody>\n",
       "    <tr>\n",
       "      <th>0</th>\n",
       "      <td>4500</td>\n",
       "      <td>2532865</td>\n",
       "      <td>4</td>\n",
       "      <td>2005-07-26</td>\n",
       "    </tr>\n",
       "    <tr>\n",
       "      <th>1</th>\n",
       "      <td>4500</td>\n",
       "      <td>573364</td>\n",
       "      <td>3</td>\n",
       "      <td>2005-06-20</td>\n",
       "    </tr>\n",
       "    <tr>\n",
       "      <th>2</th>\n",
       "      <td>4500</td>\n",
       "      <td>1696725</td>\n",
       "      <td>3</td>\n",
       "      <td>2004-02-27</td>\n",
       "    </tr>\n",
       "    <tr>\n",
       "      <th>3</th>\n",
       "      <td>4500</td>\n",
       "      <td>1253431</td>\n",
       "      <td>3</td>\n",
       "      <td>2004-03-31</td>\n",
       "    </tr>\n",
       "    <tr>\n",
       "      <th>4</th>\n",
       "      <td>4500</td>\n",
       "      <td>1265574</td>\n",
       "      <td>2</td>\n",
       "      <td>2003-09-01</td>\n",
       "    </tr>\n",
       "  </tbody>\n",
       "</table>\n",
       "</div>"
      ],
      "text/plain": [
       "   movie_id  customer_id  rating        date\n",
       "0      4500      2532865       4  2005-07-26\n",
       "1      4500       573364       3  2005-06-20\n",
       "2      4500      1696725       3  2004-02-27\n",
       "3      4500      1253431       3  2004-03-31\n",
       "4      4500      1265574       2  2003-09-01"
      ]
     },
     "execution_count": 3,
     "metadata": {},
     "output_type": "execute_result"
    }
   ],
   "source": [
    "netflix_rating_df = load_data()\n",
    "netflix_rating_df.head()\n",
    "\n",
    "\n"
   ]
  },
  {
   "cell_type": "markdown",
   "metadata": {},
   "source": [
    "Analysis of the data set "
   ]
  },
  {
   "cell_type": "code",
   "execution_count": 4,
   "metadata": {},
   "outputs": [
    {
     "data": {
      "text/plain": [
       "Index(['movie_id', 'customer_id', 'rating', 'date'], dtype='object')"
      ]
     },
     "execution_count": 4,
     "metadata": {},
     "output_type": "execute_result"
    }
   ],
   "source": [
    "netflix_rating_df.columns"
   ]
  },
  {
   "cell_type": "code",
   "execution_count": 7,
   "metadata": {},
   "outputs": [
    {
     "data": {
      "text/plain": [
       "0"
      ]
     },
     "execution_count": 7,
     "metadata": {},
     "output_type": "execute_result"
    }
   ],
   "source": [
    "#dublicated entry\n",
    "netflix_rating_df.duplicated(['movie_id', 'customer_id', 'rating', 'date']).sum()"
   ]
  },
  {
   "cell_type": "code",
   "execution_count": 8,
   "metadata": {},
   "outputs": [],
   "source": [
    "#Split into train and test dataset \n",
    "split_value = int(len(netflix_rating_df) * 0.80)\n",
    "train_data = netflix_rating_df[:split_value]\n",
    "test_data = netflix_rating_df[split_value:]"
   ]
  },
  {
   "cell_type": "code",
   "execution_count": 18,
   "metadata": {},
   "outputs": [
    {
     "name": "stdout",
     "output_type": "stream",
     "text": [
      "The name of the feature is movie_id. And the unique values are [4500 4501 4502 ... 9208 9209 9210]\n",
      "The name of the feature is customer_id. And the unique values are [2532865  573364 1696725 ... 1906865 2322062 1657618]\n",
      "The name of the feature is rating. And the unique values are [4 3 2 1 5]\n",
      "The name of the feature is date. And the unique values are ['2005-07-26' '2005-06-20' '2004-02-27' ... '1999-12-14' '1999-12-20'\n",
      " '1999-12-15']\n"
     ]
    }
   ],
   "source": [
    "# To find the unique vaue of each of the feature \n",
    "for features in netflix_rating_df.columns:\n",
    "    print(f'The name of the feature is {features}. And the unique values are {netflix_rating_df[features].unique()}')"
   ]
  },
  {
   "cell_type": "code",
   "execution_count": 20,
   "metadata": {},
   "outputs": [
    {
     "data": {
      "image/png": "[encoded data removed]",
      "text/plain": [
       "<Figure size 864x576 with 1 Axes>"
      ]
     },
     "metadata": {
      "needs_background": "light"
     },
     "output_type": "display_data"
    }
   ],
   "source": [
    "#Count the number of rating in the dataset \n",
    "plt.figure(figsize =(12,8))\n",
    "ax = sns.countplot(x='rating',data=train_data)\n",
    "plt.title(\"Count Ratings in train data\", fontsize = 20)\n",
    "plt.xlabel(\"Ratings\", fontsize = 20)\n",
    "plt.ylabel(\"Number of Ratings\", fontsize = 20)\n",
    "plt.show()"
   ]
  },
  {
   "cell_type": "code",
   "execution_count": 23,
   "metadata": {},
   "outputs": [
    {
     "data": {
      "text/plain": [
       "customer_id\n",
       "305344     3635\n",
       "387418     3598\n",
       "2439493    3388\n",
       "1664010    3270\n",
       "2118461    3053\n",
       "1314869    2024\n",
       "1461435    2024\n",
       "1639792    2011\n",
       "2606799    1862\n",
       "1932594    1810\n",
       "1114324    1722\n",
       "2056022    1716\n",
       "752642     1537\n",
       "491531     1495\n",
       "727242     1462\n",
       "716173     1417\n",
       "1473980    1409\n",
       "1852040    1409\n",
       "1663888    1405\n",
       "798296     1401\n",
       "Name: rating, dtype: int64"
      ]
     },
     "execution_count": 23,
     "metadata": {},
     "output_type": "execute_result"
    }
   ],
   "source": [
    "#no of rating per user \n",
    "no_of_movies_per_user = train_data.groupby(by = \"customer_id\")['rating'].count().sort_values(ascending=False)\n",
    "no_of_movies_per_user.head(20)"
   ]
  },
  {
   "cell_type": "code",
   "execution_count": 26,
   "metadata": {},
   "outputs": [
    {
     "data": {
      "text/plain": [
       "movie_id\n",
       "5317    232944\n",
       "6287    193295\n",
       "6972    171991\n",
       "6037    158601\n",
       "5496    155714\n",
       "7624    152085\n",
       "4996    151847\n",
       "7234    151031\n",
       "6386    148146\n",
       "6206    143697\n",
       "7617    141442\n",
       "6134    132237\n",
       "4656    130782\n",
       "5862    127318\n",
       "6971    126816\n",
       "6692    125479\n",
       "5401    122795\n",
       "4640    122158\n",
       "5926    121669\n",
       "6844    116716\n",
       "Name: rating, dtype: int64"
      ]
     },
     "execution_count": 26,
     "metadata": {},
     "output_type": "execute_result"
    }
   ],
   "source": [
    "#NUmber of rating number per movie \n",
    "no_rated_movies_per_user = train_data.groupby(\"movie_id\")[\"rating\"].count().sort_values(ascending=False)\n",
    "no_rated_movies_per_user.head(20)\n"
   ]
  },
  {
   "cell_type": "markdown",
   "metadata": {},
   "source": [
    "Create User-Item Sparse Matrix"
   ]
  },
  {
   "cell_type": "markdown",
   "metadata": {},
   "source": [
    "In a user-item sparse matrix, items’ values are present in the column, and users’ values are present in the rows. The rating of the user is present in the cell. Such is a sparse matrix because there can be the possibility that the user cannot rate every movie items, and many items can be empty or zero.\n",
    "\n"
   ]
  },
  {
   "cell_type": "code",
   "execution_count": 28,
   "metadata": {},
   "outputs": [],
   "source": [
    "def get_user_item_sparse_matrix(df):\n",
    "    sparse_data = sparse.csr_matrix((df.rating,(df.customer_id,df.movie_id)))\n",
    "    return sparse_data"
   ]
  },
  {
   "cell_type": "code",
   "execution_count": 29,
   "metadata": {},
   "outputs": [],
   "source": [
    "train_sparse_data = get_user_item_sparse_matrix(train_data)\n"
   ]
  },
  {
   "cell_type": "code",
   "execution_count": 30,
   "metadata": {},
   "outputs": [],
   "source": [
    "test_sparse_data = get_user_item_sparse_matrix(test_data)"
   ]
  },
  {
   "cell_type": "code",
   "execution_count": 31,
   "metadata": {},
   "outputs": [
    {
     "name": "stdout",
     "output_type": "stream",
     "text": [
      "Global Average Rating: 3.5850628243664464\n"
     ]
    }
   ],
   "source": [
    "global_average_rating = train_sparse_data.sum()/train_sparse_data.count_nonzero()\n",
    "print(\"Global Average Rating: {}\".format(global_average_rating))"
   ]
  },
  {
   "cell_type": "code",
   "execution_count": null,
   "metadata": {},
   "outputs": [],
   "source": []
  }
 ],
 "metadata": {
  "kernelspec": {
   "display_name": "Python 3.9.12 ('base')",
   "language": "python",
   "name": "python3"
  },
  "language_info": {
   "codemirror_mode": {
    "name": "ipython",
    "version": 3
   },
   "file_extension": ".py",
   "mimetype": "text/x-python",
   "name": "python",
   "nbconvert_exporter": "python",
   "pygments_lexer": "ipython3",
   "version": "3.9.12"
  },
  "orig_nbformat": 4,
  "vscode": {
   "interpreter": {
    "hash": "a077222d77dfe082b8f1dd562ad70e458ac2ab76993a0b248ab0476e32e9e8dd"
   }
  }
 },
 "nbformat": 4,
 "nbformat_minor": 2
}
