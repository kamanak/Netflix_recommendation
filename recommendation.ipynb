{
 "cells": [
  {
   "cell_type": "code",
   "execution_count": 1,
   "metadata": {},
   "outputs": [],
   "source": [
    "import pandas as pd\n",
    "import numpy as np \n",
    "import seaborn as sns \n",
    "import os \n",
    "import random \n",
    "import matplotlib\n",
    "import matplotlib.pyplot as plt\n",
    "from datetime import datetime \n",
    "from scipy import sparse\n",
    "from sklearn.metrics.pairwise import cosine_similarity\n",
    "from sklearn.metrics import mean_squared_error\n",
    "import xgboost as xgb\n",
    "from surprise import Reader,Dataset\n",
    "from surprise import BaselineOnly\n",
    "from surprise import KNNBaseline\n",
    "from surprise import SVD\n",
    "from surprise import SVDpp\n",
    "from surprise.model_selection import GridSearchCV\n"
   ]
  },
  {
   "cell_type": "markdown",
   "metadata": {},
   "source": [
    "Data Extraction"
   ]
  },
  {
   "cell_type": "code",
   "execution_count": 2,
   "metadata": {},
   "outputs": [],
   "source": [
    "#function that insert combined data text file into netflix rating csv file \n",
    "def load_data():\n",
    "    #create new folder netflix_csv to store txt data into csv format\n",
    "    netflix_csv_file = open('netflix_rating.csv',mode='w')\n",
    "    rating_files = ['combined_data_2.txt']\n",
    "    for file in rating_files:\n",
    "        #To open the combined_data.txt file as f\n",
    "        with open(file) as f:\n",
    "            for line in f:\n",
    "                #Remove evey space between each line \n",
    "                line = line.strip()\n",
    "                if line.endswith(\":\"):\n",
    "                    movie_id = line.replace(\":\",\"\")\n",
    "                else:\n",
    "                    row_data = []\n",
    "                    row_data = [item for item in line.split(\",\")]\n",
    "                    row_data.insert(0,movie_id)\n",
    "                    netflix_csv_file.write(\",\".join(row_data))\n",
    "                    netflix_csv_file.write('\\n')\n",
    "    netflix_csv_file.close()\n",
    "    df = pd.read_csv('netflix_rating.csv',sep=',',names=[\"movie_id\",\"customer_id\",\"rating\",\"date\"])\n",
    "    return df\n",
    "\n"
   ]
  },
  {
   "cell_type": "code",
   "execution_count": 4,
   "metadata": {},
   "outputs": [
    {
     "data": {
      "text/html": [
       "<div>\n",
       "<style scoped>\n",
       "    .dataframe tbody tr th:only-of-type {\n",
       "        vertical-align: middle;\n",
       "    }\n",
       "\n",
       "    .dataframe tbody tr th {\n",
       "        vertical-align: top;\n",
       "    }\n",
       "\n",
       "    .dataframe thead th {\n",
       "        text-align: right;\n",
       "    }\n",
       "</style>\n",
       "<table border=\"1\" class=\"dataframe\">\n",
       "  <thead>\n",
       "    <tr style=\"text-align: right;\">\n",
       "      <th></th>\n",
       "      <th>movie_id</th>\n",
       "      <th>customer_id</th>\n",
       "      <th>rating</th>\n",
       "      <th>date</th>\n",
       "    </tr>\n",
       "  </thead>\n",
       "  <tbody>\n",
       "    <tr>\n",
       "      <th>0</th>\n",
       "      <td>4500</td>\n",
       "      <td>2532865</td>\n",
       "      <td>4</td>\n",
       "      <td>2005-07-26</td>\n",
       "    </tr>\n",
       "    <tr>\n",
       "      <th>1</th>\n",
       "      <td>4500</td>\n",
       "      <td>573364</td>\n",
       "      <td>3</td>\n",
       "      <td>2005-06-20</td>\n",
       "    </tr>\n",
       "    <tr>\n",
       "      <th>2</th>\n",
       "      <td>4500</td>\n",
       "      <td>1696725</td>\n",
       "      <td>3</td>\n",
       "      <td>2004-02-27</td>\n",
       "    </tr>\n",
       "    <tr>\n",
       "      <th>3</th>\n",
       "      <td>4500</td>\n",
       "      <td>1253431</td>\n",
       "      <td>3</td>\n",
       "      <td>2004-03-31</td>\n",
       "    </tr>\n",
       "    <tr>\n",
       "      <th>4</th>\n",
       "      <td>4500</td>\n",
       "      <td>1265574</td>\n",
       "      <td>2</td>\n",
       "      <td>2003-09-01</td>\n",
       "    </tr>\n",
       "  </tbody>\n",
       "</table>\n",
       "</div>"
      ],
      "text/plain": [
       "   movie_id  customer_id  rating        date\n",
       "0      4500      2532865       4  2005-07-26\n",
       "1      4500       573364       3  2005-06-20\n",
       "2      4500      1696725       3  2004-02-27\n",
       "3      4500      1253431       3  2004-03-31\n",
       "4      4500      1265574       2  2003-09-01"
      ]
     },
     "execution_count": 4,
     "metadata": {},
     "output_type": "execute_result"
    }
   ],
   "source": [
    "netflix_rating_df = load_data()\n",
    "netflix_rating_df.head()\n",
    "\n",
    "\n"
   ]
  },
  {
   "cell_type": "code",
   "execution_count": null,
   "metadata": {},
   "outputs": [],
   "source": []
  }
 ],
 "metadata": {
  "kernelspec": {
   "display_name": "Python 3.9.12 ('base')",
   "language": "python",
   "name": "python3"
  },
  "language_info": {
   "codemirror_mode": {
    "name": "ipython",
    "version": 3
   },
   "file_extension": ".py",
   "mimetype": "text/x-python",
   "name": "python",
   "nbconvert_exporter": "python",
   "pygments_lexer": "ipython3",
   "version": "3.9.12"
  },
  "orig_nbformat": 4,
  "vscode": {
   "interpreter": {
    "hash": "a077222d77dfe082b8f1dd562ad70e458ac2ab76993a0b248ab0476e32e9e8dd"
   }
  }
 },
 "nbformat": 4,
 "nbformat_minor": 2
}
